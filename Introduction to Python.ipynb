{
 "cells": [
  {
   "cell_type": "markdown",
   "metadata": {},
   "source": [
    "# Introduction to Python\n",
    "\n"
   ]
  },
  {
   "cell_type": "markdown",
   "metadata": {},
   "source": [
    "### Simple Math\n",
    "Let's get started and use Python as a calculator"
   ]
  },
  {
   "cell_type": "code",
   "execution_count": 1,
   "metadata": {
    "jupyter": {
     "outputs_hidden": false
    }
   },
   "outputs": [
    {
     "name": "stdout",
     "output_type": "stream",
     "text": [
      "17\n"
     ]
    }
   ],
   "source": [
    "print(7 + 10)"
   ]
  },
  {
   "cell_type": "code",
   "execution_count": 2,
   "metadata": {
    "jupyter": {
     "outputs_hidden": false
    }
   },
   "outputs": [
    {
     "name": "stdout",
     "output_type": "stream",
     "text": [
      "10\n",
      "0\n",
      "15\n",
      "5.0\n",
      "16\n"
     ]
    }
   ],
   "source": [
    "# Addition \n",
    "print(5 + 5)\n",
    "\n",
    "# Subtraction\n",
    "print(5 - 5)\n",
    "\n",
    "# Multiplication\n",
    "print(3 * 5)\n",
    "\n",
    "# Division \n",
    "print(10 / 2)\n",
    "\n",
    "# Exponentiation\n",
    "print(4 ** 2)"
   ]
  },
  {
   "cell_type": "code",
   "execution_count": 3,
   "metadata": {
    "jupyter": {
     "outputs_hidden": false
    }
   },
   "outputs": [
    {
     "name": "stdout",
     "output_type": "stream",
     "text": [
      "1024\n"
     ]
    }
   ],
   "source": [
    "# Combining processes\n",
    "print(4 * (2 ** 8))"
   ]
  },
  {
   "cell_type": "markdown",
   "metadata": {},
   "source": [
    "### Variables\n",
    "\n",
    "A variable is a specific, case-sensitive name that serves as a placeholder for another value. Every time you use a variable name, Python replaces the variable with the actual value. Variables help make your code reproducible and flexible to changes.\n",
    "\n",
    "Here, we will calculate body mass index (BMI) using BMI = weight(kg) / height(m)^2"
   ]
  },
  {
   "cell_type": "code",
   "execution_count": 4,
   "metadata": {
    "jupyter": {
     "outputs_hidden": false
    }
   },
   "outputs": [
    {
     "name": "stdout",
     "output_type": "stream",
     "text": [
      "21.049382716049383\n"
     ]
    }
   ],
   "source": [
    "# Weight in kg\n",
    "weight = 68.2\n",
    "\n",
    "# Height in meters\n",
    "height = 1.8\n",
    "\n",
    "# Check to see the value of each variable\n",
    "weight\n",
    "height\n",
    "\n",
    "# Calculate BMI using variables\n",
    "weight/(height ** 2)\n",
    "\n",
    "# Saving expression to the variable name `BMI`\n",
    "BMI = weight/(height ** 2)\n",
    "\n",
    "# Two ways to print variable. \n",
    "# One way is to console, the other is best practice for use in scripts\n",
    "BMI\n",
    "print(BMI)"
   ]
  },
  {
   "cell_type": "code",
   "execution_count": 5,
   "metadata": {
    "jupyter": {
     "outputs_hidden": false
    }
   },
   "outputs": [
    {
     "data": {
      "text/plain": [
       "float"
      ]
     },
     "execution_count": 5,
     "metadata": {},
     "output_type": "execute_result"
    }
   ],
   "source": [
    "# Identify the type of the object stored as `BMI`\n",
    "type(BMI)"
   ]
  },
  {
   "cell_type": "markdown",
   "metadata": {},
   "source": [
    "### Data Types\n",
    "\n",
    "Variables can store data of different types, and different types can do different things.\n",
    "\n",
    "Python has several data types built-in by default:\n",
    "\n",
    "* Single objects\n",
    "    * **Text** - str\n",
    "    * **Numeric** - int, float, complex\n",
    "    * **Boolean** - bool\n",
    "* Collections of data are described below\n",
    "\n",
    "You can get the data type of any object by using the `type()` function\n"
   ]
  },
  {
   "cell_type": "code",
   "execution_count": 6,
   "metadata": {
    "jupyter": {
     "outputs_hidden": false
    }
   },
   "outputs": [
    {
     "name": "stdout",
     "output_type": "stream",
     "text": [
      "<class 'str'>\n"
     ]
    }
   ],
   "source": [
    "# String - use single or double quotes\n",
    "type(\"abc\")\n",
    "\n",
    "x = \"This is a string\"\n",
    "type(x)\n",
    "print(type(x))"
   ]
  },
  {
   "cell_type": "code",
   "execution_count": 7,
   "metadata": {
    "jupyter": {
     "outputs_hidden": false
    }
   },
   "outputs": [
    {
     "data": {
      "text/plain": [
       "float"
      ]
     },
     "execution_count": 7,
     "metadata": {},
     "output_type": "execute_result"
    }
   ],
   "source": [
    "# Float - decimal, real number\n",
    "type(1.2)"
   ]
  },
  {
   "cell_type": "code",
   "execution_count": 8,
   "metadata": {
    "jupyter": {
     "outputs_hidden": false
    }
   },
   "outputs": [
    {
     "data": {
      "text/plain": [
       "int"
      ]
     },
     "execution_count": 8,
     "metadata": {},
     "output_type": "execute_result"
    }
   ],
   "source": [
    "# Integer - whole number\n",
    "type(5)"
   ]
  },
  {
   "cell_type": "code",
   "execution_count": 9,
   "metadata": {
    "jupyter": {
     "outputs_hidden": false
    }
   },
   "outputs": [
    {
     "data": {
      "text/plain": [
       "bool"
      ]
     },
     "execution_count": 9,
     "metadata": {},
     "output_type": "execute_result"
    }
   ],
   "source": [
    "# Booleans - logical values\n",
    "# Useful to filter data\n",
    "type(True)\n",
    "type(False)"
   ]
  },
  {
   "cell_type": "code",
   "execution_count": 10,
   "metadata": {
    "jupyter": {
     "outputs_hidden": false
    }
   },
   "outputs": [
    {
     "name": "stdout",
     "output_type": "stream",
     "text": [
      "5\n",
      "abcd\n"
     ]
    }
   ],
   "source": [
    "# Combining data types that are the same\n",
    "\n",
    "# Sum of integers\n",
    "print(2 + 3)\n",
    "\n",
    "# Sum of strings\n",
    "print(\"ab\" + \"cd\")"
   ]
  },
  {
   "cell_type": "markdown",
   "metadata": {},
   "source": [
    "### Combining data\n",
    "\n",
    "In Python, to combine data types that are not the same you need to explicitly convert the type to be the same. You can do this by using the following functions:\n",
    "\n",
    "* `str()` - convert to string\n",
    "* `int()` - convert to integer\n",
    "* `float()` - convert to float\n",
    "* `bool()` - convert to boolean"
   ]
  },
  {
   "cell_type": "code",
   "execution_count": 11,
   "metadata": {
    "jupyter": {
     "outputs_hidden": false
    }
   },
   "outputs": [
    {
     "name": "stdout",
     "output_type": "stream",
     "text": [
      "<class 'int'>\n",
      "I have 2 ducks\n"
     ]
    }
   ],
   "source": [
    "# Example of combining different data types\n",
    "\n",
    "# Integer\n",
    "two_var = 2\n",
    "print(type(two_var))\n",
    "\n",
    "# Wrong - tries to combine two different data types and results in error message\n",
    "# print(\"I have \" + two_var + \" ducks\")\n",
    "\n",
    "# Correct - converts integer value to string before combining with other string values\n",
    "print(\"I have \" + str(two_var) + \" ducks\")"
   ]
  },
  {
   "cell_type": "code",
   "execution_count": 12,
   "metadata": {
    "jupyter": {
     "outputs_hidden": false
    }
   },
   "outputs": [
    {
     "name": "stdout",
     "output_type": "stream",
     "text": [
      "duck duck goose\n",
      "I have 2 ducks and 1 goose\n"
     ]
    }
   ],
   "source": [
    "# String examples\n",
    "\n",
    "# Repeating a string using \"multiplication\"\n",
    "print((\"duck \" * 2) + \"goose\")\n",
    "\n",
    "# Converting integers to strings\n",
    "print(\"I have \" + str(2) + \" ducks and \" + str(1) + \" goose\")"
   ]
  },
  {
   "cell_type": "code",
   "execution_count": 13,
   "metadata": {},
   "outputs": [
    {
     "name": "stdout",
     "output_type": "stream",
     "text": [
      "1\n",
      "6\n",
      "2\n",
      "1\n",
      "2\n"
     ]
    }
   ],
   "source": [
    "# Boolean examples\n",
    "\n",
    "# True = 1, False = 0\n",
    "print(True + False)\n",
    "print(True + False + 5)\n",
    "\n",
    "# Any non-zero number is considered to be \"True\" and equal to 1\n",
    "print(True + False + bool(5))\n",
    "print(True + False + bool(0))\n",
    "\n",
    "# Any non-zero input is considered to be \"True\" and equal to 1\n",
    "print(True + False + bool(\"eight\"))"
   ]
  },
  {
   "cell_type": "code",
   "execution_count": 14,
   "metadata": {},
   "outputs": [
    {
     "name": "stdout",
     "output_type": "stream",
     "text": [
      "3\n",
      "4\n",
      "8\n"
     ]
    }
   ],
   "source": [
    "# Integer examples\n",
    "print(1 + 2)\n",
    "\n",
    "# True = 1, False = 0\n",
    "print(1 + 2 + True)\n",
    "\n",
    "# An integer character can be converted from string to integer\n",
    "print(1 + 2 + int(\"5\"))\n",
    "\n",
    "# Other characters cannot be converted from string to integers - results in error\n",
    "#print(1 + 2 + int(\"five\"))"
   ]
  },
  {
   "cell_type": "markdown",
   "metadata": {},
   "source": [
    "### Lists\n",
    "\n",
    "Lists are used to store multiple items in a single variable.\n",
    "\n",
    "There are 4 built-in data types in Python used to store collections of data, all with different qualities and usage.\n",
    "\n",
    "* **List** is a collection which is ordered and changeable. Allows duplicate members.\n",
    "* **Tuple** is a collection which is ordered and unchangeable. Allows duplicate members.\n",
    "* **Set** is a collection which is unordered, unchangeable, and unindexed. No duplicate members.\n",
    "* **Dictionary** is a collection which is ordered and changeable. No duplicate members.\n",
    "\n",
    "***\n",
    "\n",
    "#### Characteristics of Lists\n",
    "\n",
    "* Lists are created using square brackets `[]`\n",
    "* **Ordered**: list items are indexed, the first item has index `[0]`, the second item has index `[1]` and so on\n",
    "* **Changeable**: list items can be changed, added, and removed after it has been created\n",
    "* **Duplicates**: lists can have items with the same value"
   ]
  },
  {
   "cell_type": "code",
   "execution_count": 15,
   "metadata": {
    "jupyter": {
     "outputs_hidden": false
    }
   },
   "outputs": [
    {
     "name": "stdout",
     "output_type": "stream",
     "text": [
      "['apple', 'banana', 'cherry', 'apple', 'cherry', 'banana']\n",
      "<class 'list'>\n"
     ]
    }
   ],
   "source": [
    "# List of strings with duplicates\n",
    "fruit = [\"apple\", \"banana\", \"cherry\", \"apple\", \"cherry\", \"banana\"]\n",
    "print(fruit)\n",
    "print(type(fruit))"
   ]
  },
  {
   "cell_type": "code",
   "execution_count": 16,
   "metadata": {
    "jupyter": {
     "outputs_hidden": false
    }
   },
   "outputs": [
    {
     "name": "stdout",
     "output_type": "stream",
     "text": [
      "['apple', 'banana', 'cherry']\n",
      "[1, 5, 7, 9, 3]\n",
      "[True, False, False]\n"
     ]
    }
   ],
   "source": [
    "# String list\n",
    "list_str = [\"apple\", \"banana\", \"cherry\"]\n",
    "print(list_str)\n",
    "\n",
    "# Integer list\n",
    "list_int = [1, 5, 7, 9, 3]\n",
    "print(list_int)\n",
    "\n",
    "# Boolean list\n",
    "list_bool = [True, False, False]\n",
    "print(list_bool)"
   ]
  },
  {
   "cell_type": "code",
   "execution_count": 17,
   "metadata": {
    "jupyter": {
     "outputs_hidden": false
    }
   },
   "outputs": [
    {
     "name": "stdout",
     "output_type": "stream",
     "text": [
      "['abc', 34, True, 40, 'male']\n"
     ]
    }
   ],
   "source": [
    "# A list with different data types\n",
    "list_combo = [\"abc\", 34, True, 40, \"male\"]\n",
    "print(list_combo)"
   ]
  },
  {
   "cell_type": "code",
   "execution_count": 18,
   "metadata": {
    "jupyter": {
     "outputs_hidden": false
    }
   },
   "outputs": [
    {
     "name": "stdout",
     "output_type": "stream",
     "text": [
      "5\n"
     ]
    }
   ],
   "source": [
    "# Find the length of the list using `len()`\n",
    "print(len(list_combo))"
   ]
  },
  {
   "cell_type": "code",
   "execution_count": 19,
   "metadata": {
    "jupyter": {
     "outputs_hidden": false
    }
   },
   "outputs": [
    {
     "name": "stdout",
     "output_type": "stream",
     "text": [
      "['Apples', 5, 'Bananas', 10, 'Cherries', 7]\n",
      "<class 'list'>\n"
     ]
    }
   ],
   "source": [
    "# Fruit variables\n",
    "apple = 5\n",
    "banana = 10\n",
    "cherry = 7\n",
    "\n",
    "# List combined with strings and variables with integer values\n",
    "fruits = [\"Apples\", apple, \"Bananas\", banana, \"Cherries\", cherry]\n",
    "print(fruits)\n",
    "print(type(fruits))"
   ]
  },
  {
   "cell_type": "code",
   "execution_count": 20,
   "metadata": {},
   "outputs": [
    {
     "name": "stdout",
     "output_type": "stream",
     "text": [
      "[['Apples', 5], ['Bananas', 10], ['Cherries', 7]]\n",
      "<class 'list'>\n"
     ]
    }
   ],
   "source": [
    "# List of lists\n",
    "fruit_lists = [[\"Apples\", apple],\n",
    "               [\"Bananas\", banana],\n",
    "               [\"Cherries\", cherry]]\n",
    "print(fruit_lists)\n",
    "print(type(fruit_lists))"
   ]
  },
  {
   "cell_type": "markdown",
   "metadata": {},
   "source": [
    "### Subsetting Lists\n",
    "\n",
    "**Zero-based indexing**\n",
    "\n",
    "The first element in a list has index **0**, the second element has index **1**, and so on. You can specifically select elements from your list by using the index value.\n",
    "\n",
    "Syntax to reference list and specific index value: `mylist[2]`"
   ]
  },
  {
   "cell_type": "code",
   "execution_count": 21,
   "metadata": {
    "jupyter": {
     "outputs_hidden": false
    }
   },
   "outputs": [
    {
     "name": "stdout",
     "output_type": "stream",
     "text": [
      "['Apples', 5, 'Bananas', 10, 'Cherries', 7]\n"
     ]
    }
   ],
   "source": [
    "print(fruits)"
   ]
  },
  {
   "cell_type": "code",
   "execution_count": 22,
   "metadata": {
    "jupyter": {
     "outputs_hidden": false
    }
   },
   "outputs": [
    {
     "name": "stdout",
     "output_type": "stream",
     "text": [
      "6\n"
     ]
    }
   ],
   "source": [
    "# Length of list\n",
    "print(len(fruits))"
   ]
  },
  {
   "cell_type": "code",
   "execution_count": 23,
   "metadata": {
    "jupyter": {
     "outputs_hidden": false
    }
   },
   "outputs": [
    {
     "data": {
      "text/plain": [
       "'Apples'"
      ]
     },
     "execution_count": 23,
     "metadata": {},
     "output_type": "execute_result"
    }
   ],
   "source": [
    "# Subset FIRST item in the list with INDEX 0\n",
    "fruits[0]"
   ]
  },
  {
   "cell_type": "code",
   "execution_count": 24,
   "metadata": {
    "jupyter": {
     "outputs_hidden": false
    },
    "scrolled": true
   },
   "outputs": [
    {
     "data": {
      "text/plain": [
       "'Bananas'"
      ]
     },
     "execution_count": 24,
     "metadata": {},
     "output_type": "execute_result"
    }
   ],
   "source": [
    "# Subset THIRD item in the list with INDEX 2\n",
    "fruits[2]"
   ]
  },
  {
   "cell_type": "code",
   "execution_count": 25,
   "metadata": {
    "jupyter": {
     "outputs_hidden": false
    }
   },
   "outputs": [
    {
     "data": {
      "text/plain": [
       "7"
      ]
     },
     "execution_count": 25,
     "metadata": {},
     "output_type": "execute_result"
    }
   ],
   "source": [
    "# Count backwards using negative indexes, starts at -1\n",
    "# Subset LAST item in the list using INDEX -1\n",
    "fruits[-1]"
   ]
  },
  {
   "cell_type": "code",
   "execution_count": 26,
   "metadata": {
    "jupyter": {
     "outputs_hidden": false
    }
   },
   "outputs": [
    {
     "name": "stdout",
     "output_type": "stream",
     "text": [
      "12\n"
     ]
    }
   ],
   "source": [
    "# Subset the SECOND (index 1) and LAST (index -1) values in the list\n",
    "# Calculate the sum of the values\n",
    "app_cher = fruits[1] + fruits[-1]\n",
    "print(app_cher)"
   ]
  },
  {
   "cell_type": "markdown",
   "metadata": {},
   "source": [
    "### Subsetting Lists\n",
    "\n",
    "**Slicing**\n",
    "\n",
    "You can select multiple elements from a list by selecting a range of elements. The result will be a new list of the choosen elements.\n",
    "\n",
    "`my_list[start:end]`\n",
    "\n",
    "* **start** index will be included\n",
    "* **end** index will NOT be included"
   ]
  },
  {
   "cell_type": "code",
   "execution_count": 27,
   "metadata": {
    "jupyter": {
     "outputs_hidden": false
    }
   },
   "outputs": [
    {
     "data": {
      "text/plain": [
       "['Apples', 5]"
      ]
     },
     "execution_count": 27,
     "metadata": {},
     "output_type": "execute_result"
    }
   ],
   "source": [
    "# Range [included : excluded]\n",
    "# Slice the FIRST TWO items from the list (INDEX 0 and INDEX 1)\n",
    "fruits[0:2]"
   ]
  },
  {
   "cell_type": "code",
   "execution_count": 28,
   "metadata": {
    "jupyter": {
     "outputs_hidden": false
    }
   },
   "outputs": [
    {
     "data": {
      "text/plain": [
       "['Apples', 5, 'Bananas', 10]"
      ]
     },
     "execution_count": 28,
     "metadata": {},
     "output_type": "execute_result"
    }
   ],
   "source": [
    "# Subset everything before and NOT including INDEX 4\n",
    "# Leave the start position empty to indicate \"everything\"\n",
    "fruits[:4]"
   ]
  },
  {
   "cell_type": "code",
   "execution_count": 29,
   "metadata": {
    "jupyter": {
     "outputs_hidden": false
    }
   },
   "outputs": [
    {
     "data": {
      "text/plain": [
       "['Cherries', 7]"
      ]
     },
     "execution_count": 29,
     "metadata": {},
     "output_type": "execute_result"
    }
   ],
   "source": [
    "# Subset INDEX 4 to the end of the list\n",
    "# Leave the end position empty to indicate \"everything\"\n",
    "fruits[4:]"
   ]
  },
  {
   "cell_type": "code",
   "execution_count": 30,
   "metadata": {
    "jupyter": {
     "outputs_hidden": false
    }
   },
   "outputs": [
    {
     "data": {
      "text/plain": [
       "['Bananas', 10]"
      ]
     },
     "execution_count": 30,
     "metadata": {},
     "output_type": "execute_result"
    }
   ],
   "source": [
    "# Subset INDEX 2 up to and NOT including INDEX 4\n",
    "fruits[2:4]"
   ]
  },
  {
   "cell_type": "code",
   "execution_count": 31,
   "metadata": {
    "jupyter": {
     "outputs_hidden": false
    }
   },
   "outputs": [
    {
     "data": {
      "text/plain": [
       "['Apples', 5, 'Bananas', 10, 'Cherries', 7]"
      ]
     },
     "execution_count": 31,
     "metadata": {},
     "output_type": "execute_result"
    }
   ],
   "source": [
    "# Select ALL list elements explicitly\n",
    "fruits[:]"
   ]
  },
  {
   "cell_type": "code",
   "execution_count": 32,
   "metadata": {
    "jupyter": {
     "outputs_hidden": false
    }
   },
   "outputs": [
    {
     "name": "stdout",
     "output_type": "stream",
     "text": [
      "12\n"
     ]
    }
   ],
   "source": [
    "# Subset two values and calculate the sum\n",
    "app_cher = fruits[1] + fruits[-1]\n",
    "print(app_cher)"
   ]
  },
  {
   "cell_type": "code",
   "execution_count": 33,
   "metadata": {
    "jupyter": {
     "outputs_hidden": false
    }
   },
   "outputs": [
    {
     "name": "stdout",
     "output_type": "stream",
     "text": [
      "[['Apples', 5], ['Bananas', 10], ['Cherries', 7]]\n"
     ]
    }
   ],
   "source": [
    "# Subset lists from lists\n",
    "print(fruit_lists)"
   ]
  },
  {
   "cell_type": "code",
   "execution_count": 34,
   "metadata": {
    "jupyter": {
     "outputs_hidden": false
    }
   },
   "outputs": [
    {
     "name": "stdout",
     "output_type": "stream",
     "text": [
      "3\n"
     ]
    }
   ],
   "source": [
    "# Length of lists\n",
    "print(len(fruit_lists))"
   ]
  },
  {
   "cell_type": "code",
   "execution_count": 35,
   "metadata": {
    "jupyter": {
     "outputs_hidden": false
    }
   },
   "outputs": [
    {
     "data": {
      "text/plain": [
       "['Cherries', 7]"
      ]
     },
     "execution_count": 35,
     "metadata": {},
     "output_type": "execute_result"
    }
   ],
   "source": [
    "# Subset the THIRD list using INDEX 2\n",
    "fruit_lists[2]"
   ]
  },
  {
   "cell_type": "code",
   "execution_count": 36,
   "metadata": {
    "jupyter": {
     "outputs_hidden": false
    }
   },
   "outputs": [
    {
     "data": {
      "text/plain": [
       "'Cherries'"
      ]
     },
     "execution_count": 36,
     "metadata": {},
     "output_type": "execute_result"
    }
   ],
   "source": [
    "# Select an element from a list, within another list\n",
    "# Subset the THIRD list (INDEX 2) and the FIRST element (INDEX 0)\n",
    "fruit_lists[2][0]"
   ]
  },
  {
   "cell_type": "markdown",
   "metadata": {},
   "source": [
    "### Manipulating list elements\n",
    "\n",
    "As stated before, lists are a changeable collection of values. This includes:\n",
    "\n",
    "* Changing an element\n",
    "* Adding an element\n",
    "* Removing an element"
   ]
  },
  {
   "cell_type": "code",
   "execution_count": 37,
   "metadata": {
    "jupyter": {
     "outputs_hidden": false
    }
   },
   "outputs": [
    {
     "name": "stdout",
     "output_type": "stream",
     "text": [
      "['Apples', 5, 'Bananas', 10, 'Cherries', 7]\n"
     ]
    }
   ],
   "source": [
    "print(fruits)"
   ]
  },
  {
   "cell_type": "code",
   "execution_count": 38,
   "metadata": {
    "jupyter": {
     "outputs_hidden": false
    }
   },
   "outputs": [
    {
     "name": "stdout",
     "output_type": "stream",
     "text": [
      "['Apples', 3, 'Bananas', 10, 'Cherries', 7]\n"
     ]
    }
   ],
   "source": [
    "# Changing a single element\n",
    "\n",
    "# Single value replacements do not need brackets\n",
    "# Replace the second element in the list with a different value\n",
    "# Here, '5' is replaced by '3'\n",
    "fruits[1] = 3\n",
    "print(fruits)"
   ]
  },
  {
   "cell_type": "code",
   "execution_count": 39,
   "metadata": {
    "jupyter": {
     "outputs_hidden": false
    }
   },
   "outputs": [
    {
     "name": "stdout",
     "output_type": "stream",
     "text": [
      "['Apples', 3, 'Bananas', 10, 'Oranges', 5]\n"
     ]
    }
   ],
   "source": [
    "# Changing multiple elements\n",
    "\n",
    "# Must use brackets to indicate a list is being provided\n",
    "fruits[4:] = [\"Oranges\", 5]\n",
    "print(fruits)"
   ]
  },
  {
   "cell_type": "code",
   "execution_count": 40,
   "metadata": {
    "jupyter": {
     "outputs_hidden": false
    }
   },
   "outputs": [
    {
     "name": "stdout",
     "output_type": "stream",
     "text": [
      "['Apples', 3, 'Bananas', 10, 'Oranges', 5, 'Cherries']\n",
      "['Apples', 3, 'Bananas', 10, 'Oranges', 5]\n"
     ]
    }
   ],
   "source": [
    "# Adding an element\n",
    "\n",
    "# New element must be in list form to add to another list\n",
    "# Creates a new list and the original list is unchanged\n",
    "print(fruits + [\"Cherries\"])\n",
    "print(fruits)"
   ]
  },
  {
   "cell_type": "code",
   "execution_count": 41,
   "metadata": {
    "jupyter": {
     "outputs_hidden": false
    }
   },
   "outputs": [
    {
     "name": "stdout",
     "output_type": "stream",
     "text": [
      "['Apples', 3, 'Bananas', 10, 'Oranges', 5, 'Cherries', 8]\n"
     ]
    }
   ],
   "source": [
    "# The new list created by adding an element can be saved as new list with a new variable name\n",
    "fruits_2 = fruits + [\"Cherries\", 8]\n",
    "print(fruits_2)"
   ]
  },
  {
   "cell_type": "markdown",
   "metadata": {},
   "source": [
    "#### Deleting an element of a list\n",
    "\n",
    "* Deleting an element can be done using the `del()` function. \n",
    "* As an element is removed from a list, the indexes of the elements that come after the deleted element all change"
   ]
  },
  {
   "cell_type": "code",
   "execution_count": 42,
   "metadata": {
    "jupyter": {
     "outputs_hidden": false
    }
   },
   "outputs": [
    {
     "name": "stdout",
     "output_type": "stream",
     "text": [
      "['Cherries', 8]\n",
      "['Apples', 3, 'Bananas', 10, 'Oranges', 5]\n"
     ]
    }
   ],
   "source": [
    "# Removing elements using `del()`\n",
    "\n",
    "# Subset the SECOND TO LAST and LAST element (INDEX -2 and INDEX -1)\n",
    "# Use `:` to indicate \"everything\" \n",
    "print(fruits_2[-2:])\n",
    "\n",
    "# Remove element\n",
    "del(fruits_2[-2:])\n",
    "print(fruits_2)"
   ]
  },
  {
   "cell_type": "code",
   "execution_count": 43,
   "metadata": {
    "jupyter": {
     "outputs_hidden": false
    }
   },
   "outputs": [
    {
     "name": "stdout",
     "output_type": "stream",
     "text": [
      "['Bananas', 10]\n",
      "['Apples', 3, 'Oranges', 5]\n"
     ]
    }
   ],
   "source": [
    "# Another example\n",
    "print(fruits_2[2:4])\n",
    "\n",
    "# Removing elements\n",
    "del(fruits_2[2:4])\n",
    "print(fruits_2)"
   ]
  },
  {
   "cell_type": "code",
   "execution_count": 44,
   "metadata": {
    "jupyter": {
     "outputs_hidden": false
    }
   },
   "outputs": [
    {
     "name": "stdout",
     "output_type": "stream",
     "text": [
      "['Apples', 3, 'Oranges', 5]\n",
      "5\n",
      "['Apples', 3]\n"
     ]
    }
   ],
   "source": [
    "# Removing multiple elements in series\n",
    "# The index changes after each removal\n",
    "print(fruits_2)\n",
    "print(fruits_2[-1])\n",
    "\n",
    "del(fruits_2[-1]); del(fruits_2[-1])\n",
    "print(fruits_2)"
   ]
  },
  {
   "cell_type": "markdown",
   "metadata": {},
   "source": [
    "### Making copies and the inner workings of python\n",
    "\n",
    "* Creating a copy of a list by assigning a new variable name only makes a reference to the original list\n",
    "* Any changes made to either reference will change the original list\n",
    "* Copying a list must be done explicitly so that the actually list, not the reference, is copied."
   ]
  },
  {
   "cell_type": "code",
   "execution_count": 45,
   "metadata": {
    "jupyter": {
     "outputs_hidden": false
    }
   },
   "outputs": [
    {
     "name": "stdout",
     "output_type": "stream",
     "text": [
      "['Apples', 3]\n",
      "['Apples', 3]\n"
     ]
    }
   ],
   "source": [
    "print(fruits_2)\n",
    "\n",
    "# Copying reference for an original list\n",
    "fruits_copy = fruits_2\n",
    "print(fruits_copy)"
   ]
  },
  {
   "cell_type": "code",
   "execution_count": 46,
   "metadata": {
    "jupyter": {
     "outputs_hidden": false
    }
   },
   "outputs": [
    {
     "name": "stdout",
     "output_type": "stream",
     "text": [
      "['Apples']\n",
      "['Apples']\n"
     ]
    }
   ],
   "source": [
    "# Change in reference copy\n",
    "# Result is a change in the original list \n",
    "del(fruits_copy[1])\n",
    "print(fruits_copy)\n",
    "print(fruits_2)"
   ]
  },
  {
   "cell_type": "code",
   "execution_count": 47,
   "metadata": {
    "jupyter": {
     "outputs_hidden": false
    }
   },
   "outputs": [
    {
     "name": "stdout",
     "output_type": "stream",
     "text": [
      "[1, 2, 3, 4, 5]\n"
     ]
    }
   ],
   "source": [
    "# New list\n",
    "mylist = [1, 2, 3, 4, 5]\n",
    "print(mylist)"
   ]
  },
  {
   "cell_type": "code",
   "execution_count": 48,
   "metadata": {
    "jupyter": {
     "outputs_hidden": false
    }
   },
   "outputs": [
    {
     "name": "stdout",
     "output_type": "stream",
     "text": [
      "[1, 2, 3, 4, 5]\n"
     ]
    }
   ],
   "source": [
    "# Copying original list explicitly with `[:]`\n",
    "copy_1 = mylist[:]\n",
    "print(copy_1)"
   ]
  },
  {
   "cell_type": "code",
   "execution_count": 49,
   "metadata": {
    "jupyter": {
     "outputs_hidden": false
    }
   },
   "outputs": [
    {
     "name": "stdout",
     "output_type": "stream",
     "text": [
      "[1, 2, 3]\n",
      "[1, 2, 3, 4, 5]\n"
     ]
    }
   ],
   "source": [
    "# Remove last two elements\n",
    "# Change in new list only\n",
    "del(copy_1[-2:])\n",
    "print(copy_1)\n",
    "print(mylist)"
   ]
  },
  {
   "cell_type": "code",
   "execution_count": 50,
   "metadata": {
    "jupyter": {
     "outputs_hidden": false
    }
   },
   "outputs": [
    {
     "name": "stdout",
     "output_type": "stream",
     "text": [
      "[1, 2, 3, 4, 5]\n",
      "[1, 2, 3, 4, 5]\n"
     ]
    }
   ],
   "source": [
    "# Copying original list explicitly with list()\n",
    "copy_2 = list(mylist)\n",
    "print(copy_2)\n",
    "print(mylist)"
   ]
  },
  {
   "cell_type": "code",
   "execution_count": 51,
   "metadata": {
    "jupyter": {
     "outputs_hidden": false
    }
   },
   "outputs": [
    {
     "name": "stdout",
     "output_type": "stream",
     "text": [
      "[3, 4, 5]\n",
      "[1, 2, 3, 4, 5]\n"
     ]
    }
   ],
   "source": [
    "# Remove first two elements\n",
    "# Change in new list only\n",
    "del(copy_2[0:2])\n",
    "print(copy_2)\n",
    "print(mylist)"
   ]
  },
  {
   "cell_type": "markdown",
   "metadata": {},
   "source": [
    "### Functions\n",
    "\n",
    "A function is a piece of resuable code that performs a specific task\n",
    "\n",
    "**Examples of functions**\n",
    "\n",
    "* `str()`\n",
    "* `bool()`\n",
    "* `float()`\n",
    "* `int()`\n",
    "* `type()`\n",
    "* `del()`\n",
    "\n",
    "You can search online to find functions built in to Python that you may need. Try searching for \"maximum value in a list in python\" in your search engine.\n",
    "\n",
    "Many functions can accept multiple arguments. These can also be found on the help page."
   ]
  },
  {
   "cell_type": "code",
   "execution_count": 52,
   "metadata": {
    "jupyter": {
     "outputs_hidden": false
    }
   },
   "outputs": [
    {
     "data": {
      "text/plain": [
       "5"
      ]
     },
     "execution_count": 52,
     "metadata": {},
     "output_type": "execute_result"
    }
   ],
   "source": [
    "# Find maximum value in a list\n",
    "max(mylist)"
   ]
  },
  {
   "cell_type": "code",
   "execution_count": 53,
   "metadata": {
    "jupyter": {
     "outputs_hidden": false
    }
   },
   "outputs": [
    {
     "data": {
      "text/plain": [
       "1"
      ]
     },
     "execution_count": 53,
     "metadata": {},
     "output_type": "execute_result"
    }
   ],
   "source": [
    "# Use the function `round()` with default settings\n",
    "round(1.2345)"
   ]
  },
  {
   "cell_type": "code",
   "execution_count": 54,
   "metadata": {
    "jupyter": {
     "outputs_hidden": false
    }
   },
   "outputs": [
    {
     "name": "stdout",
     "output_type": "stream",
     "text": [
      "Help on built-in function round in module builtins:\n",
      "\n",
      "round(number, ndigits=None)\n",
      "    Round a number to a given precision in decimal digits.\n",
      "    \n",
      "    The return value is an integer if ndigits is omitted or None.  Otherwise\n",
      "    the return value has the same type as the number.  ndigits may be negative.\n",
      "\n"
     ]
    },
    {
     "data": {
      "text/plain": [
       "\u001b[0;31mSignature:\u001b[0m \u001b[0mround\u001b[0m\u001b[0;34m(\u001b[0m\u001b[0mnumber\u001b[0m\u001b[0;34m,\u001b[0m \u001b[0mndigits\u001b[0m\u001b[0;34m=\u001b[0m\u001b[0;32mNone\u001b[0m\u001b[0;34m)\u001b[0m\u001b[0;34m\u001b[0m\u001b[0;34m\u001b[0m\u001b[0m\n",
       "\u001b[0;31mDocstring:\u001b[0m\n",
       "Round a number to a given precision in decimal digits.\n",
       "\n",
       "The return value is an integer if ndigits is omitted or None.  Otherwise\n",
       "the return value has the same type as the number.  ndigits may be negative.\n",
       "\u001b[0;31mType:\u001b[0m      builtin_function_or_method\n"
      ]
     },
     "metadata": {},
     "output_type": "display_data"
    }
   ],
   "source": [
    "# Finding help\n",
    "help(round)\n",
    "?round"
   ]
  },
  {
   "cell_type": "code",
   "execution_count": 55,
   "metadata": {
    "jupyter": {
     "outputs_hidden": false
    }
   },
   "outputs": [
    {
     "data": {
      "text/plain": [
       "1.23"
      ]
     },
     "execution_count": 55,
     "metadata": {},
     "output_type": "execute_result"
    }
   ],
   "source": [
    "# Use the function `round()` with option `ndigits` settings\n",
    "round(1.2345, 2)"
   ]
  },
  {
   "cell_type": "code",
   "execution_count": 56,
   "metadata": {
    "jupyter": {
     "outputs_hidden": false
    }
   },
   "outputs": [
    {
     "name": "stdout",
     "output_type": "stream",
     "text": [
      "Help on built-in function sorted in module builtins:\n",
      "\n",
      "sorted(iterable, /, *, key=None, reverse=False)\n",
      "    Return a new list containing all items from the iterable in ascending order.\n",
      "    \n",
      "    A custom key function can be supplied to customize the sort order, and the\n",
      "    reverse flag can be set to request the result in descending order.\n",
      "\n"
     ]
    }
   ],
   "source": [
    "# Use the function `sorted()`\n",
    "help(sorted)"
   ]
  },
  {
   "cell_type": "code",
   "execution_count": 57,
   "metadata": {
    "jupyter": {
     "outputs_hidden": false
    }
   },
   "outputs": [
    {
     "name": "stdout",
     "output_type": "stream",
     "text": [
      "['d', 'e', 'f', 'c', 'b', 'a']\n"
     ]
    }
   ],
   "source": [
    "# Make new lists\n",
    "one = [\"d\", \"e\", \"f\"]\n",
    "two = [\"c\", \"b\", \"a\"]\n",
    "\n",
    "# Combine lists into a new list\n",
    "three = one + two\n",
    "print(three)"
   ]
  },
  {
   "cell_type": "code",
   "execution_count": 58,
   "metadata": {
    "jupyter": {
     "outputs_hidden": false
    }
   },
   "outputs": [
    {
     "name": "stdout",
     "output_type": "stream",
     "text": [
      "['a', 'b', 'c', 'd', 'e', 'f']\n",
      "['d', 'e', 'f', 'c', 'b', 'a']\n"
     ]
    }
   ],
   "source": [
    "# Sort the new list\n",
    "# Output is only printed to console, it does not change the original list\n",
    "# The sorted list must be saved with a variable name\n",
    "print(sorted(three))\n",
    "print(three)"
   ]
  },
  {
   "cell_type": "code",
   "execution_count": 59,
   "metadata": {
    "jupyter": {
     "outputs_hidden": false
    }
   },
   "outputs": [
    {
     "data": {
      "text/plain": [
       "['f', 'e', 'd', 'c', 'b', 'a']"
      ]
     },
     "execution_count": 59,
     "metadata": {},
     "output_type": "execute_result"
    }
   ],
   "source": [
    "# Reverse sort the list\n",
    "sorted(three, reverse = True)"
   ]
  },
  {
   "cell_type": "markdown",
   "metadata": {},
   "source": [
    "### Methods\n",
    "\n",
    "**Objects** are values and data structures in Python. Objects have methods associated, depending on the type of object.\n",
    "\n",
    "**Methods** are call functions that belong to Python objects. They are used with *dot notation*. It is important to note that some methods change the object they are called on ... and some don't.\n",
    "\n",
    "* **String**\n",
    "    * `capitalize()` - returns a copy of the original string and converts               the first character of the string to a capital (uppercase)                 letter while making all other characters in the string                     lowercase letters.\n",
    "    * `replace()` - returns a copy of the string with all occurrences of                 substring old replaced by new\n",
    "    * `upper()` - returns the uppercase string from the given string\n",
    "    * `index()` - returns the index of the specified element in the string\n",
    "    * `count()` - returns the number of times the specified value appears               in the string\n",
    "* **Float**\n",
    "    * `bit_length()` - Returns the number of bits necessary to represent                 an integer in binary, excluding the sign and leading zeros\n",
    "* **List**\n",
    "    * `index()` - returns the index of the specified element in the list.\n",
    "    * `count()` - returns the number of times the specified element                     appears in the list\n",
    "    * `append()` - adds an item to the end of the list.\n",
    "    * `remove()` - removes the first matching element of a list"
   ]
  },
  {
   "cell_type": "code",
   "execution_count": 60,
   "metadata": {
    "jupyter": {
     "outputs_hidden": false
    }
   },
   "outputs": [
    {
     "name": "stdout",
     "output_type": "stream",
     "text": [
      "apple\n"
     ]
    }
   ],
   "source": [
    "# String methods example\n",
    "a = \"apple\"\n",
    "print(a)"
   ]
  },
  {
   "cell_type": "code",
   "execution_count": 61,
   "metadata": {
    "jupyter": {
     "outputs_hidden": false
    }
   },
   "outputs": [
    {
     "data": {
      "text/plain": [
       "'Apple'"
      ]
     },
     "execution_count": 61,
     "metadata": {},
     "output_type": "execute_result"
    }
   ],
   "source": [
    "# Capitalize the provided string\n",
    "a.capitalize()"
   ]
  },
  {
   "cell_type": "code",
   "execution_count": 62,
   "metadata": {
    "jupyter": {
     "outputs_hidden": false
    }
   },
   "outputs": [
    {
     "name": "stdout",
     "output_type": "stream",
     "text": [
      "apple\n"
     ]
    }
   ],
   "source": [
    "# The original value is not changed\n",
    "print(a)"
   ]
  },
  {
   "cell_type": "code",
   "execution_count": 63,
   "metadata": {
    "jupyter": {
     "outputs_hidden": false
    }
   },
   "outputs": [
    {
     "data": {
      "text/plain": [
       "'APPLE'"
      ]
     },
     "execution_count": 63,
     "metadata": {},
     "output_type": "execute_result"
    }
   ],
   "source": [
    "# Make all letters upper case\n",
    "a.upper()"
   ]
  },
  {
   "cell_type": "code",
   "execution_count": 64,
   "metadata": {
    "jupyter": {
     "outputs_hidden": false
    }
   },
   "outputs": [
    {
     "data": {
      "text/plain": [
       "2"
      ]
     },
     "execution_count": 64,
     "metadata": {},
     "output_type": "execute_result"
    }
   ],
   "source": [
    "# Count the number of times a value is present in string\n",
    "a.count(\"p\")"
   ]
  },
  {
   "cell_type": "code",
   "execution_count": 65,
   "metadata": {
    "jupyter": {
     "outputs_hidden": false
    }
   },
   "outputs": [
    {
     "data": {
      "text/plain": [
       "1"
      ]
     },
     "execution_count": 65,
     "metadata": {},
     "output_type": "execute_result"
    }
   ],
   "source": [
    "# Find the first index of a specific value\n",
    "a.index(\"p\")"
   ]
  },
  {
   "cell_type": "code",
   "execution_count": 66,
   "metadata": {
    "jupyter": {
     "outputs_hidden": false
    }
   },
   "outputs": [
    {
     "data": {
      "text/plain": [
       "4"
      ]
     },
     "execution_count": 66,
     "metadata": {},
     "output_type": "execute_result"
    }
   ],
   "source": [
    "a.index(\"e\")"
   ]
  },
  {
   "cell_type": "code",
   "execution_count": 67,
   "metadata": {
    "jupyter": {
     "outputs_hidden": false
    }
   },
   "outputs": [
    {
     "name": "stdout",
     "output_type": "stream",
     "text": [
      "['red', 'yellow']\n"
     ]
    }
   ],
   "source": [
    "# List methods example\n",
    "colors = [\"red\", \"yellow\"]\n",
    "print(colors)"
   ]
  },
  {
   "cell_type": "code",
   "execution_count": 68,
   "metadata": {
    "jupyter": {
     "outputs_hidden": false
    }
   },
   "outputs": [
    {
     "name": "stdout",
     "output_type": "stream",
     "text": [
      "['red', 'yellow', 'blue']\n"
     ]
    }
   ],
   "source": [
    "# Add an element to the list\n",
    "# Change is made to original list\n",
    "colors.append(\"blue\")\n",
    "print(colors)"
   ]
  },
  {
   "cell_type": "code",
   "execution_count": 69,
   "metadata": {
    "jupyter": {
     "outputs_hidden": false
    }
   },
   "outputs": [
    {
     "name": "stdout",
     "output_type": "stream",
     "text": [
      "['blue', 'red', 'yellow']\n"
     ]
    }
   ],
   "source": [
    "# Sort list alphabetically\n",
    "# Change is made to original list\n",
    "colors.sort()\n",
    "print(colors)"
   ]
  },
  {
   "cell_type": "code",
   "execution_count": 70,
   "metadata": {
    "jupyter": {
     "outputs_hidden": false
    }
   },
   "outputs": [
    {
     "data": {
      "text/plain": [
       "1"
      ]
     },
     "execution_count": 70,
     "metadata": {},
     "output_type": "execute_result"
    }
   ],
   "source": [
    "# Find index of specific value\n",
    "colors.index(\"red\")"
   ]
  },
  {
   "cell_type": "code",
   "execution_count": 71,
   "metadata": {
    "jupyter": {
     "outputs_hidden": false
    }
   },
   "outputs": [
    {
     "name": "stdout",
     "output_type": "stream",
     "text": [
      "['blue', 'red']\n"
     ]
    }
   ],
   "source": [
    "# Remove an item from list\n",
    "# Change is made to original list\n",
    "colors.remove(\"yellow\")\n",
    "print(colors)"
   ]
  },
  {
   "cell_type": "markdown",
   "metadata": {},
   "source": [
    "### Packages\n",
    "\n",
    "* Packages are a directory of python scripts\n",
    "* Each script is a module that focuses on a specific task\n",
    "* Specify functions, methods, types\n",
    "* Thousands of packages available\n",
    "    * Numpy\n",
    "    * Matplotlib\n",
    "    * Scikit-learn\n",
    "    * Pandas\n",
    "* Anaconda has most packages installed\n",
    "    * For non-Anaconda users: install specific packages using `pip`\n",
    "        * https://pip.pypa.io/en/stable/installation/\n",
    "* To use packages in Python, you must `import` the entire package\n",
    "    * `import numpy`\n",
    "    * `numpy.array([1, 2, 3])`\n",
    "    * Making a nickname for imported package\n",
    "        * `import numpy as np`\n",
    "        * `np.array([1, 2, 3])`\n",
    "    * Possible but not recommended: only import one function from a package\n",
    "        * `from numpy import array`\n",
    "        * `array([1, 2, 3])`\n",
    "    * Possible but not recommended: import one function from a package with a nickname\n",
    "        * `from numpy import array as my_array`\n",
    "        * `my_array([1, 2, 3])`\n"
   ]
  },
  {
   "cell_type": "code",
   "execution_count": 72,
   "metadata": {
    "jupyter": {
     "outputs_hidden": false
    }
   },
   "outputs": [],
   "source": [
    "# `pi` is a function that provide the number pi\n",
    "# pi"
   ]
  },
  {
   "cell_type": "code",
   "execution_count": 73,
   "metadata": {},
   "outputs": [],
   "source": [
    "# `math` is the package that contains the script containing the pi function\n",
    "# To use `pi`, the math package must be imported into Python\n",
    "import math"
   ]
  },
  {
   "cell_type": "code",
   "execution_count": 74,
   "metadata": {
    "jupyter": {
     "outputs_hidden": false
    }
   },
   "outputs": [
    {
     "data": {
      "text/plain": [
       "3.141592653589793"
      ]
     },
     "execution_count": 74,
     "metadata": {},
     "output_type": "execute_result"
    }
   ],
   "source": [
    "# Call a function from a specific package using dot (.) notation\n",
    "# package_name.function\n",
    "math.pi"
   ]
  },
  {
   "cell_type": "code",
   "execution_count": 75,
   "metadata": {
    "jupyter": {
     "outputs_hidden": false
    }
   },
   "outputs": [
    {
     "name": "stdout",
     "output_type": "stream",
     "text": [
      "0.7853981633974483\n",
      "0.79\n"
     ]
    }
   ],
   "source": [
    "# Find the area of a circle\n",
    "# Equation: Area = pi * r ** 2\n",
    "area = math.pi * (0.5) ** 2\n",
    "print(area)\n",
    "print(round(area, 2))"
   ]
  },
  {
   "cell_type": "markdown",
   "metadata": {},
   "source": [
    "### Numpy\n",
    "\n",
    "\"Numeric python\"\n",
    "\n",
    "- Non-Anaconda users: installation using terminal `pip install numpy`\n",
    "- Numpy arrays (grid of data) are an alternative to the Python list. It can only contain one type of data."
   ]
  },
  {
   "cell_type": "code",
   "execution_count": 76,
   "metadata": {},
   "outputs": [],
   "source": [
    "# Importing the package Numpy with the nickname \"np\"\n",
    "import numpy as np"
   ]
  },
  {
   "cell_type": "code",
   "execution_count": 77,
   "metadata": {
    "jupyter": {
     "outputs_hidden": false
    }
   },
   "outputs": [],
   "source": [
    "# Making Python lists (py_list) and Numpy arrays (np_arrays)\n",
    "py_list = [10, 30, 50]\n",
    "np_array = np.array([20, 40, 60])"
   ]
  },
  {
   "cell_type": "code",
   "execution_count": 78,
   "metadata": {
    "jupyter": {
     "outputs_hidden": false
    }
   },
   "outputs": [
    {
     "name": "stdout",
     "output_type": "stream",
     "text": [
      "[10, 30, 50]\n"
     ]
    },
    {
     "data": {
      "text/plain": [
       "list"
      ]
     },
     "execution_count": 78,
     "metadata": {},
     "output_type": "execute_result"
    }
   ],
   "source": [
    "# Determining type for python list\n",
    "print(py_list)\n",
    "type(py_list)"
   ]
  },
  {
   "cell_type": "code",
   "execution_count": 79,
   "metadata": {
    "jupyter": {
     "outputs_hidden": false
    }
   },
   "outputs": [
    {
     "name": "stdout",
     "output_type": "stream",
     "text": [
      "[20 40 60]\n"
     ]
    },
    {
     "data": {
      "text/plain": [
       "numpy.ndarray"
      ]
     },
     "execution_count": 79,
     "metadata": {},
     "output_type": "execute_result"
    }
   ],
   "source": [
    "# Determining type for Numpy array\n",
    "print(np_array)\n",
    "type(np_array)"
   ]
  },
  {
   "cell_type": "code",
   "execution_count": 80,
   "metadata": {
    "jupyter": {
     "outputs_hidden": false
    }
   },
   "outputs": [
    {
     "data": {
      "text/plain": [
       "[10, 30, 50, 10, 30, 50]"
      ]
     },
     "execution_count": 80,
     "metadata": {},
     "output_type": "execute_result"
    }
   ],
   "source": [
    "# Combine Python lists\n",
    "# Result: lists are concatenated\n",
    "py_list + py_list"
   ]
  },
  {
   "cell_type": "code",
   "execution_count": 81,
   "metadata": {
    "jupyter": {
     "outputs_hidden": false
    }
   },
   "outputs": [
    {
     "data": {
      "text/plain": [
       "array([ 40,  80, 120])"
      ]
     },
     "execution_count": 81,
     "metadata": {},
     "output_type": "execute_result"
    }
   ],
   "source": [
    "# Sum of Numpy arrays\n",
    "# Result: lists are combined element-wise and the sums are calculated\n",
    "np_array + np_array"
   ]
  },
  {
   "cell_type": "code",
   "execution_count": 82,
   "metadata": {
    "jupyter": {
     "outputs_hidden": false
    }
   },
   "outputs": [
    {
     "data": {
      "text/plain": [
       "array([ 30,  70, 110])"
      ]
     },
     "execution_count": 82,
     "metadata": {},
     "output_type": "execute_result"
    }
   ],
   "source": [
    "# Sum of list and array\n",
    "# Result: the Python list is converted to an array and combined element-wise\n",
    "py_list + np_array"
   ]
  },
  {
   "cell_type": "code",
   "execution_count": 83,
   "metadata": {
    "jupyter": {
     "outputs_hidden": false
    }
   },
   "outputs": [
    {
     "name": "stdout",
     "output_type": "stream",
     "text": [
      "<class 'numpy.ndarray'>\n"
     ]
    }
   ],
   "source": [
    "# Combine python list and array with concatenate\n",
    "cat_array = np.concatenate((py_list, np_array))\n",
    "print(type(cat_array))"
   ]
  },
  {
   "cell_type": "code",
   "execution_count": 84,
   "metadata": {},
   "outputs": [
    {
     "name": "stdout",
     "output_type": "stream",
     "text": [
      "<class 'numpy.ndarray'>\n",
      "[10 20 30 40 50 60]\n"
     ]
    }
   ],
   "source": [
    "# Sort using array method\n",
    "cat_array.sort()\n",
    "print(type(cat_array))\n",
    "print(cat_array)"
   ]
  },
  {
   "cell_type": "code",
   "execution_count": 85,
   "metadata": {
    "tags": []
   },
   "outputs": [
    {
     "name": "stdout",
     "output_type": "stream",
     "text": [
      "[ 30  60  90 120 150 180]\n",
      "<class 'numpy.ndarray'>\n"
     ]
    }
   ],
   "source": [
    "# Multplying a single value with a Numpy array\n",
    "# Element-wise calculation\n",
    "triple_array = cat_array * 3\n",
    "print(triple_array)\n",
    "\n",
    "# New array sorted\n",
    "triple_array.sort()\n",
    "print(type(triple_array))"
   ]
  },
  {
   "cell_type": "code",
   "execution_count": 86,
   "metadata": {
    "jupyter": {
     "outputs_hidden": false
    }
   },
   "outputs": [
    {
     "data": {
      "text/plain": [
       "10"
      ]
     },
     "execution_count": 86,
     "metadata": {},
     "output_type": "execute_result"
    }
   ],
   "source": [
    "# Subsetting for the FIRST element with INDEX 0\n",
    "cat_array[0]"
   ]
  },
  {
   "cell_type": "code",
   "execution_count": 87,
   "metadata": {
    "jupyter": {
     "outputs_hidden": false
    }
   },
   "outputs": [
    {
     "data": {
      "text/plain": [
       "60"
      ]
     },
     "execution_count": 87,
     "metadata": {},
     "output_type": "execute_result"
    }
   ],
   "source": [
    "# Subsetting for the LAST element with INDEX -1\n",
    "cat_array[-1]"
   ]
  },
  {
   "cell_type": "code",
   "execution_count": 88,
   "metadata": {
    "jupyter": {
     "outputs_hidden": false
    }
   },
   "outputs": [
    {
     "data": {
      "text/plain": [
       "10"
      ]
     },
     "execution_count": 88,
     "metadata": {},
     "output_type": "execute_result"
    }
   ],
   "source": [
    "# Subsetting for the FIRST element with INDEX 0\n",
    "py_list[0]"
   ]
  },
  {
   "cell_type": "code",
   "execution_count": 89,
   "metadata": {
    "jupyter": {
     "outputs_hidden": false
    }
   },
   "outputs": [
    {
     "data": {
      "text/plain": [
       "50"
      ]
     },
     "execution_count": 89,
     "metadata": {},
     "output_type": "execute_result"
    }
   ],
   "source": [
    "# Subsetting for the LAST element with INDEX -1\n",
    "py_list[-1]"
   ]
  },
  {
   "cell_type": "code",
   "execution_count": 90,
   "metadata": {
    "jupyter": {
     "outputs_hidden": false
    }
   },
   "outputs": [
    {
     "data": {
      "text/plain": [
       "array([False, False, False,  True,  True,  True])"
      ]
     },
     "execution_count": 90,
     "metadata": {},
     "output_type": "execute_result"
    }
   ],
   "source": [
    "# Retrieving array of booleans from condition (> 35)\n",
    "cat_array > 35"
   ]
  },
  {
   "cell_type": "code",
   "execution_count": 91,
   "metadata": {
    "jupyter": {
     "outputs_hidden": false
    }
   },
   "outputs": [
    {
     "name": "stdout",
     "output_type": "stream",
     "text": [
      "[10 20 30 40 50 60]\n"
     ]
    }
   ],
   "source": [
    "# Compare array to boolean result\n",
    "print(cat_array)"
   ]
  },
  {
   "cell_type": "code",
   "execution_count": 92,
   "metadata": {
    "jupyter": {
     "outputs_hidden": false
    }
   },
   "outputs": [
    {
     "data": {
      "text/plain": [
       "array([40, 50, 60])"
      ]
     },
     "execution_count": 92,
     "metadata": {},
     "output_type": "execute_result"
    }
   ],
   "source": [
    "# Subsetting array with array of booleans\n",
    "cat_array[cat_array > 35]"
   ]
  },
  {
   "cell_type": "code",
   "execution_count": 93,
   "metadata": {
    "jupyter": {
     "outputs_hidden": false
    }
   },
   "outputs": [
    {
     "name": "stdout",
     "output_type": "stream",
     "text": [
      "[10, 30, 50]\n"
     ]
    }
   ],
   "source": [
    "# Python lists cannot be subset with conditions (> 25)\n",
    "print(py_list)\n",
    "# py_list > 25"
   ]
  },
  {
   "cell_type": "code",
   "execution_count": 94,
   "metadata": {
    "jupyter": {
     "outputs_hidden": false
    }
   },
   "outputs": [
    {
     "name": "stdout",
     "output_type": "stream",
     "text": [
      "[10 30 50]\n",
      "<class 'numpy.ndarray'>\n"
     ]
    }
   ],
   "source": [
    "# Python lists can be coverted to Numpy arrays first\n",
    "# Then it can be subset with conditions (> 25)\n",
    "py_array = np.array(py_list)\n",
    "print(py_array)\n",
    "print(type(py_array))"
   ]
  },
  {
   "cell_type": "code",
   "execution_count": 95,
   "metadata": {
    "jupyter": {
     "outputs_hidden": false
    }
   },
   "outputs": [
    {
     "data": {
      "text/plain": [
       "array([False,  True,  True])"
      ]
     },
     "execution_count": 95,
     "metadata": {},
     "output_type": "execute_result"
    }
   ],
   "source": [
    "# Retrieving array of booleans from condition (> 25)\n",
    "py_array > 25"
   ]
  },
  {
   "cell_type": "code",
   "execution_count": 96,
   "metadata": {
    "jupyter": {
     "outputs_hidden": false
    }
   },
   "outputs": [
    {
     "data": {
      "text/plain": [
       "array([30, 50])"
      ]
     },
     "execution_count": 96,
     "metadata": {},
     "output_type": "execute_result"
    }
   ],
   "source": [
    "# Subsetting array with array of booleans\n",
    "py_array[py_array > 25]"
   ]
  },
  {
   "cell_type": "markdown",
   "metadata": {},
   "source": [
    "### Numpy Arrays\n",
    "\n",
    "So far we have seen Numpy arrays look very similar to a Python list. When we use `type()` on an array, `<class 'numpy.ndarray'>` is printed to the screen. This means that the object is a Numpy N-dimensional array, indicating it can be multidimensional. \n",
    "\n",
    "Furthermore, just like **methods** are associated with a type of object, **attributes** are also class associated and they can provide more information about the structure of the data. To use attributes, type the object name (dot) attribute -- do not use parentheses."
   ]
  },
  {
   "cell_type": "code",
   "execution_count": 97,
   "metadata": {},
   "outputs": [],
   "source": [
    "# Make a new list of temps from Orlando, Florida\n",
    "# First element is day of month in January\n",
    "# Second element is high temp in F\n",
    "# 5 rows, 2 columns\n",
    "temps = [[1, 79],\n",
    "         [5, 77],\n",
    "         [10, 79],\n",
    "         [15, 72],\n",
    "         [20, 80],\n",
    "         [25, 55],\n",
    "         [30, 59]]"
   ]
  },
  {
   "cell_type": "code",
   "execution_count": 98,
   "metadata": {},
   "outputs": [
    {
     "name": "stdout",
     "output_type": "stream",
     "text": [
      "[[1, 79], [5, 77], [10, 79], [15, 72], [20, 80], [25, 55], [30, 59]]\n",
      "<class 'list'>\n"
     ]
    }
   ],
   "source": [
    "# Check the new Python list (of lists)\n",
    "print(temps)\n",
    "print(type(temps))"
   ]
  },
  {
   "cell_type": "code",
   "execution_count": 99,
   "metadata": {},
   "outputs": [],
   "source": [
    "# Import Numpy if you haven't already\n",
    "import numpy as np"
   ]
  },
  {
   "cell_type": "code",
   "execution_count": 100,
   "metadata": {},
   "outputs": [
    {
     "name": "stdout",
     "output_type": "stream",
     "text": [
      "[[ 1 79]\n",
      " [ 5 77]\n",
      " [10 79]\n",
      " [15 72]\n",
      " [20 80]\n",
      " [25 55]\n",
      " [30 59]]\n"
     ]
    }
   ],
   "source": [
    "# Convert the Python list \"temps\" to a Numpy array\n",
    "np_temps = np.array(temps)\n",
    "print(np_temps)"
   ]
  },
  {
   "cell_type": "code",
   "execution_count": 101,
   "metadata": {
    "jupyter": {
     "outputs_hidden": false
    }
   },
   "outputs": [
    {
     "name": "stdout",
     "output_type": "stream",
     "text": [
      "<class 'numpy.ndarray'>\n"
     ]
    }
   ],
   "source": [
    "print(type(np_temps))"
   ]
  },
  {
   "cell_type": "code",
   "execution_count": 102,
   "metadata": {
    "jupyter": {
     "outputs_hidden": false
    }
   },
   "outputs": [
    {
     "name": "stdout",
     "output_type": "stream",
     "text": [
      "(7, 2)\n"
     ]
    }
   ],
   "source": [
    "# 7 rows, 2 columns\n",
    "print(np_temps.shape)"
   ]
  },
  {
   "cell_type": "markdown",
   "metadata": {},
   "source": [
    "Subsetting a multidimenional array is similar to subsetting a list. Only now, both rows and columns are indicated. \n",
    "\n",
    "`my_array[rows, columns]`"
   ]
  },
  {
   "cell_type": "code",
   "execution_count": 103,
   "metadata": {
    "jupyter": {
     "outputs_hidden": false
    }
   },
   "outputs": [
    {
     "data": {
      "text/plain": [
       "array([79, 77, 79, 72, 80, 55, 59])"
      ]
     },
     "execution_count": 103,
     "metadata": {},
     "output_type": "execute_result"
    }
   ],
   "source": [
    "# Subset ALL rows and the SECOND column (INDEX 1), containing the temperatures only\n",
    "# \n",
    "np_temps[:, 1]"
   ]
  },
  {
   "cell_type": "code",
   "execution_count": 104,
   "metadata": {
    "jupyter": {
     "outputs_hidden": false
    }
   },
   "outputs": [
    {
     "data": {
      "text/plain": [
       "79"
      ]
     },
     "execution_count": 104,
     "metadata": {},
     "output_type": "execute_result"
    }
   ],
   "source": [
    "# Subset the temperature for the FIRST DAY of the month\n",
    "# FIRST row (INDEX 0)\n",
    "# SECOND column (INDEX 1)\n",
    "np_temps[0, 1]"
   ]
  },
  {
   "cell_type": "code",
   "execution_count": 105,
   "metadata": {
    "jupyter": {
     "outputs_hidden": false
    }
   },
   "outputs": [
    {
     "data": {
      "text/plain": [
       "59"
      ]
     },
     "execution_count": 105,
     "metadata": {},
     "output_type": "execute_result"
    }
   ],
   "source": [
    "# Subset the temperature for the LAST DAY of the month\n",
    "# LAST row (INDEX -1)\n",
    "# SECOND column (INDEX 1)\n",
    "np_temps[-1, 1]"
   ]
  },
  {
   "cell_type": "code",
   "execution_count": 106,
   "metadata": {
    "jupyter": {
     "outputs_hidden": false
    }
   },
   "outputs": [
    {
     "data": {
      "text/plain": [
       "55"
      ]
     },
     "execution_count": 106,
     "metadata": {},
     "output_type": "execute_result"
    }
   ],
   "source": [
    "# Find the minimum value in the temperature column of the array\n",
    "# ALL rows (:)\n",
    "# SECOND column (INDEX 1)\n",
    "min(np_temps[:, 1])"
   ]
  },
  {
   "cell_type": "code",
   "execution_count": 107,
   "metadata": {
    "jupyter": {
     "outputs_hidden": false
    }
   },
   "outputs": [
    {
     "data": {
      "text/plain": [
       "80"
      ]
     },
     "execution_count": 107,
     "metadata": {},
     "output_type": "execute_result"
    }
   ],
   "source": [
    "# Find the maximum value in the temperature column of the array\n",
    "# ALL rows (:)\n",
    "# SECOND column (INDEX 1)\n",
    "max(np_temps[:, 1])"
   ]
  },
  {
   "cell_type": "code",
   "execution_count": 108,
   "metadata": {
    "jupyter": {
     "outputs_hidden": false
    }
   },
   "outputs": [
    {
     "data": {
      "text/plain": [
       "71.57142857142857"
      ]
     },
     "execution_count": 108,
     "metadata": {},
     "output_type": "execute_result"
    }
   ],
   "source": [
    "# Mean of temperatures using Numpy `mean()` function\n",
    "# ALL rows (:)\n",
    "# SECOND column (INDEX 1)\n",
    "np.mean(np_temps[:, 1])"
   ]
  },
  {
   "cell_type": "code",
   "execution_count": 109,
   "metadata": {
    "jupyter": {
     "outputs_hidden": false
    }
   },
   "outputs": [
    {
     "data": {
      "text/plain": [
       "77.0"
      ]
     },
     "execution_count": 109,
     "metadata": {},
     "output_type": "execute_result"
    }
   ],
   "source": [
    "# Median of temperature using numpy median function\n",
    "# ALL rows (:)\n",
    "# SECOND column (INDEX 1)\n",
    "np.median(np_temps[:, 1])"
   ]
  },
  {
   "cell_type": "code",
   "execution_count": 110,
   "metadata": {
    "jupyter": {
     "outputs_hidden": false
    }
   },
   "outputs": [
    {
     "data": {
      "text/plain": [
       "10"
      ]
     },
     "execution_count": 110,
     "metadata": {},
     "output_type": "execute_result"
    }
   ],
   "source": [
    "# Standard deviation of temperatures using Numpy standard deviation `std()` function\n",
    "# Rounding std output\n",
    "# ALL rows (:)\n",
    "# SECOND column (INDEX 1)\n",
    "np.std(np_temps[:, 1])\n",
    "round(np.std(np_temps[:, 1]))"
   ]
  },
  {
   "cell_type": "markdown",
   "metadata": {},
   "source": [
    "### Summary \n",
    "\n",
    "* Python is an object oriented language\n",
    "* Everything is an object\n",
    "    * integers, strings, lists, arrays, ...\n",
    "* Objects, including the objects that are the result of an expression, can be stored as a variable\n",
    "* Lists can be modified, contain duplicates, and may have different types of data\n",
    "* Arrays can be generated using the Python package Numpy\n",
    "    * Methods occur in an element-wise fashion\n",
    "    * Subsetting multidimensional arrays requires both row and column indices"
   ]
  }
 ],
 "metadata": {
  "kernelspec": {
   "display_name": "Python 3 (ipykernel)",
   "language": "python",
   "name": "python3"
  },
  "language_info": {
   "codemirror_mode": {
    "name": "ipython",
    "version": 3
   },
   "file_extension": ".py",
   "mimetype": "text/x-python",
   "name": "python",
   "nbconvert_exporter": "python",
   "pygments_lexer": "ipython3",
   "version": "3.10.1"
  }
 },
 "nbformat": 4,
 "nbformat_minor": 4
}
